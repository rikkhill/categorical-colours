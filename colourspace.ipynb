{
 "cells": [
  {
   "cell_type": "code",
   "execution_count": null,
   "metadata": {},
   "outputs": [],
   "source": [
    "import hashlib\n",
    "import numpy as np\n",
    "import random\n",
    "from colour import Color\n",
    "from IPython.core.display import HTML, display\n",
    "import matplotlib.pyplot as plt\n"
   ]
  },
  {
   "cell_type": "code",
   "execution_count": null,
   "metadata": {},
   "outputs": [],
   "source": [
    "def euc(p_1, p_2):\n",
    "    \"\"\"3D euciidean distance between np arrays.\"\"\"\n",
    "    return np.sqrt(((p_2 - p_1) ** 2).sum())\n",
    "\n",
    "def random_heading():\n",
    "    theta = np.random.uniform(-np.pi, np.pi, 1)[0]\n",
    "    zeta = np.random.uniform(-1, 1, 1)[0]\n",
    "    x = np.sqrt(1 - zeta ** 2) * np.cos(theta)\n",
    "    y = np.sqrt(1 - zeta ** 2) * np.sin(theta)\n",
    "    z = zeta\n",
    "    return np.array([x, y, z])\n",
    "    \n",
    "\n",
    "def bridson_set(n, seed=None, d=None):\n",
    "    \"\"\"Produces approximately n poisson-sphere sampled values within the unit cube.\"\"\"\n",
    "    \n",
    "    points = []\n",
    "    \n",
    "    # All new points should be at least distance d from existing points\n",
    "    d = 1.0 / ((n + 1) ** (1/3)) if d is None else d\n",
    "   \n",
    "    seed = np.random.uniform(size=3) if seed is None else seed\n",
    "    \n",
    "    points.append(seed)\n",
    "    \n",
    "    # Begin the algorithm\n",
    "    while len(points) < n:\n",
    "        \n",
    "        # pick the zeroth existing point\n",
    "        p = points[0]\n",
    "        \n",
    "        # pick a random distance between d and 2*d\n",
    "        distance = d + np.random.uniform(size=1)[0] * d\n",
    "        \n",
    "        # Pick a random point on equal area sphere projection\n",
    "        heading = random_heading()\n",
    "\n",
    "        # Project out to the candidate point\n",
    "        candidate = p + distance * heading\n",
    "        \n",
    "        # short-circuit if candidate isn't in the unit cube\n",
    "        if np.any(candidate < 0) or np.any(candidate > 1):\n",
    "            continue\n",
    "        \n",
    "        # find all existing points that are < d distance from the candidate\n",
    "        disqualifiers = [x for x in points if euc(x, candidate) < d]\n",
    "        \n",
    "        # If there are no disqualifying points, add the candidate to the head of the list\n",
    "        if len(disqualifiers) == 0:\n",
    "            points.insert(0, candidate)\n",
    "            #print(len(points))\n",
    "            \n",
    "        # move head of the list to the tail\n",
    "        junk = points.pop()\n",
    "        points.append(junk)\n",
    "        \n",
    "    return points\n",
    "        \n",
    "        \n",
    "        \n",
    "        \n",
    "        \n",
    "    \n",
    "    "
   ]
  },
  {
   "cell_type": "code",
   "execution_count": null,
   "metadata": {},
   "outputs": [],
   "source": [
    "def showColour(c):\n",
    "    hexval = c.hex\n",
    "    display(HTML('<span style=\"display: inline-block; width: 60px; height: 60px; background-color: {} ;\"></span>'.format(hexval)))\n",
    "    return hexval\n",
    "\n",
    "\n",
    "def meanColour(c1, c2):\n",
    "    # Let's make this readable\n",
    "    red = (c1.get_red() + c2.get_red()) / 2\n",
    "    green = (c1.get_green() + c2.get_green()) / 2\n",
    "    blue = (c1.get_blue() + c2.get_blue()) / 2\n",
    "    \n",
    "    return Color(rgb=(red, green, blue))\n",
    "    \n",
    "\n",
    "def str2hex(string):\n",
    "    # Return a \n",
    "    hashstr = hashlib.sha1(bytes(string, 'utf-8')).hexdigest()[:6]\n",
    "    return \"#\" + hashstr"
   ]
  },
  {
   "cell_type": "code",
   "execution_count": null,
   "metadata": {
    "scrolled": false
   },
   "outputs": [],
   "source": [
    "size = 10\n",
    "\n",
    "cols = bridson_set(size) #, seed=np.array([1, 0, 0]))\n",
    "\n",
    "distances = np.zeros((size, size))\n",
    "for i, m in enumerate(cols):\n",
    "    for j, n in enumerate(cols):\n",
    "        distances[i, j] = euc(m, n)\n",
    "        \n",
    "# print(distances)\n",
    "\n",
    "for c in cols:\n",
    "    showColour(Color(rgb=tuple(c))) #(meanColour(Color(rgb=tuple(c)), Color(\"white\")))\n",
    "    "
   ]
  },
  {
   "cell_type": "code",
   "execution_count": null,
   "metadata": {},
   "outputs": [],
   "source": [
    "names = [\n",
    "    \"John\",\n",
    "    \"Marjorie\",\n",
    "    \"Great Crested Grebe\",\n",
    "    \"Tuberculosis\",\n",
    "    \"Tequilla Mockingbird\",\n",
    "    \"Peace Lily\",\n",
    "    \"Neil Armstrong\",\n",
    "    \"Cats and dogs\",\n",
    "    \"Blue Cheese is the Best Cheese\",\n",
    "    \"Mount Etna\",\n",
    "    \"Austro-Chinese Business Cycle Theory\",\n",
    "    \"Austro-Chinese Business Cycle Theorem\",\n",
    "    \"King Kong\",\n",
    "    \"Only a ninja can sneak up on another ninja\"\n",
    "    \n",
    "]\n",
    "\n",
    "for n in names:\n",
    "    hexvalue = str2hex(n)\n",
    "    print(n)\n",
    "    showColour(Color(hexvalue))\n",
    "    print(\"\\n\")\n",
    "    "
   ]
  },
  {
   "cell_type": "code",
   "execution_count": null,
   "metadata": {},
   "outputs": [],
   "source": [
    "steel_blue = Color(\"#6aa\")\n",
    "mid = Color(\"#888888\")\n",
    "black = Color(\"#000\")\n",
    "white = Color(\"#FFF\")\n",
    "\n",
    "showColour(steel_blue)\n",
    "showColour(meanColour(steel_blue, white))"
   ]
  },
  {
   "cell_type": "code",
   "execution_count": null,
   "metadata": {},
   "outputs": [],
   "source": [
    "for n in names:\n",
    "    hexvalue = str2hex(n)\n",
    "    print(n)\n",
    "    showColour(meanColour(Color(hexvalue), white))\n",
    "    print(\"\\n\")\n",
    "    "
   ]
  },
  {
   "cell_type": "code",
   "execution_count": null,
   "metadata": {},
   "outputs": [],
   "source": [
    "n = 5\n",
    "\n",
    "for f in np.arange(0.0, 1.0 + 1/n, 1/n):\n",
    "    red = 1 - f\n",
    "    green = 1 if (f * n % 2) else 0\n",
    "    blue = f\n",
    "    c = Color(rgb=(red, green, blue))\n",
    "    showColour(c)"
   ]
  },
  {
   "cell_type": "code",
   "execution_count": null,
   "metadata": {
    "scrolled": false
   },
   "outputs": [],
   "source": [
    "n = 7\n",
    "\n",
    "for i in np.arange(-1.0, 1.0, 2 / n):\n",
    "    red = (np.cos(i) + 1) / 2\n",
    "    green = (np.sin(i) + 1) / 2\n",
    "    blue = (np.cos(i + 0.5) + 1) / 2\n",
    "    print(red, green, blue)\n",
    "    c = Color(rgb=(red, green, blue))\n",
    "    showColour(c)\n"
   ]
  },
  {
   "cell_type": "code",
   "execution_count": null,
   "metadata": {},
   "outputs": [],
   "source": [
    "s = set([1, 2, 3])"
   ]
  },
  {
   "cell_type": "code",
   "execution_count": null,
   "metadata": {},
   "outputs": [],
   "source": [
    "str(np.array([1, 2, 3]))"
   ]
  },
  {
   "cell_type": "code",
   "execution_count": null,
   "metadata": {},
   "outputs": [],
   "source": []
  },
  {
   "cell_type": "code",
   "execution_count": null,
   "metadata": {},
   "outputs": [],
   "source": [
    "1 / (100 ** (1/3))"
   ]
  },
  {
   "cell_type": "code",
   "execution_count": null,
   "metadata": {},
   "outputs": [],
   "source": [
    "# Great circle in the unit sphere...\n",
    "\n",
    "# Get cartesian from polar coordinates, scaled to (0, 1)\n",
    "coords = [[np.cos(theta), np.sin(theta), 0.0] for theta in np.arange(0, 2 * np.pi, np.pi / 5)]\n",
    "\n",
    "space_array = np.array(coords)\n",
    "\n",
    "# 45 degree rotation about y axis\n",
    "rotation = np.array([[0.7071, 0, 0.7071],\n",
    "                     [0, 1.0000, 0],\n",
    "                     [-0.7071, 0, 0.7071]])\n",
    "\n",
    "\n",
    "space_array = space_array.dot(rotation)\n",
    "\n",
    "# Scale to correct space\n",
    "space_array = ((space_array + 1) / 2) * 255\n",
    "\n",
    "discrete_array = [(round(x[0]), round(x[1]), round(x[2])) for x in space_array.tolist()]\n",
    "\n",
    "# Get unique values\n",
    "discrete_array = set(discrete_array)\n",
    "\n",
    "print(len(discrete_array))\n",
    "\n",
    "    \n",
    "\n"
   ]
  },
  {
   "cell_type": "code",
   "execution_count": null,
   "metadata": {},
   "outputs": [],
   "source": [
    "hex_values = [Color('#%02x%02x%02x' % rgb) for rgb in discrete_array]\n",
    "for hex_val in hex_values:\n",
    "    showColour(hex_val)\n",
    "    print(hex_val.hex)\n",
    "    print(\"\")"
   ]
  },
  {
   "cell_type": "code",
   "execution_count": null,
   "metadata": {},
   "outputs": [],
   "source": []
  },
  {
   "cell_type": "code",
   "execution_count": null,
   "metadata": {},
   "outputs": [],
   "source": []
  }
 ],
 "metadata": {
  "anaconda-cloud": {},
  "kernelspec": {
   "display_name": "Python [conda env:stats]",
   "language": "python",
   "name": "conda-env-stats-py"
  },
  "language_info": {
   "codemirror_mode": {
    "name": "ipython",
    "version": 3
   },
   "file_extension": ".py",
   "mimetype": "text/x-python",
   "name": "python",
   "nbconvert_exporter": "python",
   "pygments_lexer": "ipython3",
   "version": "3.5.2"
  }
 },
 "nbformat": 4,
 "nbformat_minor": 2
}
