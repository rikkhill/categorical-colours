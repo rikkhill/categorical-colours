{
 "cells": [
  {
   "cell_type": "code",
   "execution_count": 1,
   "metadata": {
    "collapsed": false
   },
   "outputs": [],
   "source": [
    "import hashlib\n",
    "import numpy as np\n",
    "from colour import Color\n",
    "from IPython.core.display import HTML, display\n"
   ]
  },
  {
   "cell_type": "code",
   "execution_count": 2,
   "metadata": {
    "collapsed": true
   },
   "outputs": [],
   "source": [
    "def showColour(c):\n",
    "    hexval = c.hex\n",
    "    display(HTML('<span style=\"display: inline-block; width: 60px; height: 60px; background-color: {} ;\"></span>'.format(hexval)))\n",
    "    return hexval\n",
    "\n",
    "\n",
    "def str2hex(string):\n",
    "    # Return a \n",
    "    hashstr = hashlib.sha1(bytes(string, 'utf-8')).hexdigest()[:6]\n",
    "    return \"#\" + hashstr"
   ]
  },
  {
   "cell_type": "code",
   "execution_count": 9,
   "metadata": {
    "collapsed": false
   },
   "outputs": [
    {
     "name": "stdout",
     "output_type": "stream",
     "text": [
      "John\n"
     ]
    },
    {
     "data": {
      "text/html": [
       "<span style=\"display: inline-block; width: 60px; height: 60px; background-color: #5753a4 ;\"></span>"
      ],
      "text/plain": [
       "<IPython.core.display.HTML object>"
      ]
     },
     "metadata": {},
     "output_type": "display_data"
    },
    {
     "name": "stdout",
     "output_type": "stream",
     "text": [
      "\n",
      "\n",
      "Marjorie\n"
     ]
    },
    {
     "data": {
      "text/html": [
       "<span style=\"display: inline-block; width: 60px; height: 60px; background-color: #9ff124 ;\"></span>"
      ],
      "text/plain": [
       "<IPython.core.display.HTML object>"
      ]
     },
     "metadata": {},
     "output_type": "display_data"
    },
    {
     "name": "stdout",
     "output_type": "stream",
     "text": [
      "\n",
      "\n",
      "Great Crested Grebe\n"
     ]
    },
    {
     "data": {
      "text/html": [
       "<span style=\"display: inline-block; width: 60px; height: 60px; background-color: #e6a213 ;\"></span>"
      ],
      "text/plain": [
       "<IPython.core.display.HTML object>"
      ]
     },
     "metadata": {},
     "output_type": "display_data"
    },
    {
     "name": "stdout",
     "output_type": "stream",
     "text": [
      "\n",
      "\n",
      "Tuberculosis\n"
     ]
    },
    {
     "data": {
      "text/html": [
       "<span style=\"display: inline-block; width: 60px; height: 60px; background-color: #b8de84 ;\"></span>"
      ],
      "text/plain": [
       "<IPython.core.display.HTML object>"
      ]
     },
     "metadata": {},
     "output_type": "display_data"
    },
    {
     "name": "stdout",
     "output_type": "stream",
     "text": [
      "\n",
      "\n",
      "Tequilla Mockingbird\n"
     ]
    },
    {
     "data": {
      "text/html": [
       "<span style=\"display: inline-block; width: 60px; height: 60px; background-color: #46e4dd ;\"></span>"
      ],
      "text/plain": [
       "<IPython.core.display.HTML object>"
      ]
     },
     "metadata": {},
     "output_type": "display_data"
    },
    {
     "name": "stdout",
     "output_type": "stream",
     "text": [
      "\n",
      "\n",
      "Peace Lily\n"
     ]
    },
    {
     "data": {
      "text/html": [
       "<span style=\"display: inline-block; width: 60px; height: 60px; background-color: #7acbad ;\"></span>"
      ],
      "text/plain": [
       "<IPython.core.display.HTML object>"
      ]
     },
     "metadata": {},
     "output_type": "display_data"
    },
    {
     "name": "stdout",
     "output_type": "stream",
     "text": [
      "\n",
      "\n",
      "Neil Armstrong\n"
     ]
    },
    {
     "data": {
      "text/html": [
       "<span style=\"display: inline-block; width: 60px; height: 60px; background-color: #c2c01e ;\"></span>"
      ],
      "text/plain": [
       "<IPython.core.display.HTML object>"
      ]
     },
     "metadata": {},
     "output_type": "display_data"
    },
    {
     "name": "stdout",
     "output_type": "stream",
     "text": [
      "\n",
      "\n",
      "Cats and dogs\n"
     ]
    },
    {
     "data": {
      "text/html": [
       "<span style=\"display: inline-block; width: 60px; height: 60px; background-color: #c75834 ;\"></span>"
      ],
      "text/plain": [
       "<IPython.core.display.HTML object>"
      ]
     },
     "metadata": {},
     "output_type": "display_data"
    },
    {
     "name": "stdout",
     "output_type": "stream",
     "text": [
      "\n",
      "\n",
      "Blue Cheese is the Best Cheese\n"
     ]
    },
    {
     "data": {
      "text/html": [
       "<span style=\"display: inline-block; width: 60px; height: 60px; background-color: #d8a65e ;\"></span>"
      ],
      "text/plain": [
       "<IPython.core.display.HTML object>"
      ]
     },
     "metadata": {},
     "output_type": "display_data"
    },
    {
     "name": "stdout",
     "output_type": "stream",
     "text": [
      "\n",
      "\n",
      "Mount Etna\n"
     ]
    },
    {
     "data": {
      "text/html": [
       "<span style=\"display: inline-block; width: 60px; height: 60px; background-color: #0e6ed7 ;\"></span>"
      ],
      "text/plain": [
       "<IPython.core.display.HTML object>"
      ]
     },
     "metadata": {},
     "output_type": "display_data"
    },
    {
     "name": "stdout",
     "output_type": "stream",
     "text": [
      "\n",
      "\n",
      "Austro-Chinese Business Cycle Theory\n"
     ]
    },
    {
     "data": {
      "text/html": [
       "<span style=\"display: inline-block; width: 60px; height: 60px; background-color: #d7f6a3 ;\"></span>"
      ],
      "text/plain": [
       "<IPython.core.display.HTML object>"
      ]
     },
     "metadata": {},
     "output_type": "display_data"
    },
    {
     "name": "stdout",
     "output_type": "stream",
     "text": [
      "\n",
      "\n",
      "Austro-Chinese Business Cycle Theorem\n"
     ]
    },
    {
     "data": {
      "text/html": [
       "<span style=\"display: inline-block; width: 60px; height: 60px; background-color: #862327 ;\"></span>"
      ],
      "text/plain": [
       "<IPython.core.display.HTML object>"
      ]
     },
     "metadata": {},
     "output_type": "display_data"
    },
    {
     "name": "stdout",
     "output_type": "stream",
     "text": [
      "\n",
      "\n",
      "King Kong\n"
     ]
    },
    {
     "data": {
      "text/html": [
       "<span style=\"display: inline-block; width: 60px; height: 60px; background-color: #fa7d1a ;\"></span>"
      ],
      "text/plain": [
       "<IPython.core.display.HTML object>"
      ]
     },
     "metadata": {},
     "output_type": "display_data"
    },
    {
     "name": "stdout",
     "output_type": "stream",
     "text": [
      "\n",
      "\n",
      "Only a ninja can sneak up on another ninja\n"
     ]
    },
    {
     "data": {
      "text/html": [
       "<span style=\"display: inline-block; width: 60px; height: 60px; background-color: #b5dd48 ;\"></span>"
      ],
      "text/plain": [
       "<IPython.core.display.HTML object>"
      ]
     },
     "metadata": {},
     "output_type": "display_data"
    },
    {
     "name": "stdout",
     "output_type": "stream",
     "text": [
      "\n",
      "\n"
     ]
    }
   ],
   "source": [
    "names = [\n",
    "    \"John\",\n",
    "    \"Marjorie\",\n",
    "    \"Great Crested Grebe\",\n",
    "    \"Tuberculosis\",\n",
    "    \"Tequilla Mockingbird\",\n",
    "    \"Peace Lily\",\n",
    "    \"Neil Armstrong\",\n",
    "    \"Cats and dogs\",\n",
    "    \"Blue Cheese is the Best Cheese\",\n",
    "    \"Mount Etna\",\n",
    "    \"Austro-Chinese Business Cycle Theory\",\n",
    "    \"Austro-Chinese Business Cycle Theorem\",\n",
    "    \"King Kong\",\n",
    "    \"Only a ninja can sneak up on another ninja\"\n",
    "    \n",
    "]\n",
    "\n",
    "for n in names:\n",
    "    hexvalue = str2hex(n)\n",
    "    print(n)\n",
    "    showColour(Color(hexvalue))\n",
    "    print(\"\\n\")\n",
    "    "
   ]
  },
  {
   "cell_type": "code",
   "execution_count": null,
   "metadata": {
    "collapsed": false
   },
   "outputs": [],
   "source": []
  },
  {
   "cell_type": "code",
   "execution_count": null,
   "metadata": {
    "collapsed": true
   },
   "outputs": [],
   "source": []
  }
 ],
 "metadata": {
  "anaconda-cloud": {},
  "kernelspec": {
   "display_name": "Python [conda env:stats]",
   "language": "python",
   "name": "conda-env-stats-py"
  },
  "language_info": {
   "codemirror_mode": {
    "name": "ipython",
    "version": 3
   },
   "file_extension": ".py",
   "mimetype": "text/x-python",
   "name": "python",
   "nbconvert_exporter": "python",
   "pygments_lexer": "ipython3",
   "version": "3.5.2"
  }
 },
 "nbformat": 4,
 "nbformat_minor": 2
}
